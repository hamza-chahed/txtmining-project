{
 "cells": [
  {
   "cell_type": "code",
   "execution_count": 2,
   "metadata": {
    "collapsed": true
   },
   "outputs": [],
   "source": [
    "import PyPDF2"
   ]
  },
  {
   "cell_type": "code",
   "execution_count": 8,
   "metadata": {
    "collapsed": true
   },
   "outputs": [],
   "source": [
    " file = open('E:\\\\ws17-18\\\\context_recognition\\\\lecture\\\\01_Introduction.pdf', 'rb')"
   ]
  },
  {
   "cell_type": "code",
   "execution_count": 9,
   "metadata": {
    "collapsed": true
   },
   "outputs": [],
   "source": [
    " fileReader = PyPDF2.PdfFileReader(file)"
   ]
  },
  {
   "cell_type": "code",
   "execution_count": null,
   "metadata": {},
   "outputs": [],
   "source": []
  },
  {
   "cell_type": "code",
   "execution_count": 3,
   "metadata": {},
   "outputs": [],
   "source": [
    "from PyPDF2 import PdfFileMerger, PdfFileReader\n",
    "import os\n",
    "\n",
    "merger = PdfFileMerger()\n",
    "files = ['E:\\\\ws17-18\\\\context_recognition\\\\lecture\\\\01_Introduction.pdf','E:\\\\ws17-18\\\\context_recognition\\\\lecture\\\\02_Recognition_Architectures_I.pdf']#x for x in os.listdir('mypdfs') if x.endswith('.pdf') \n",
    "for fname in sorted(files):\n",
    "    merger.append(PdfFileReader(open(os.path.join('E:\\ws17-18\\context_recognition\\lecture', fname), 'rb')))\n",
    "\n",
    "merger.write(\"output.pdf\")"
   ]
  }
 ],
 "metadata": {
  "kernelspec": {
   "display_name": "Python 3",
   "language": "python",
   "name": "python3"
  },
  "language_info": {
   "codemirror_mode": {
    "name": "ipython",
    "version": 3
   },
   "file_extension": ".py",
   "mimetype": "text/x-python",
   "name": "python",
   "nbconvert_exporter": "python",
   "pygments_lexer": "ipython3",
   "version": "3.6.2"
  }
 },
 "nbformat": 4,
 "nbformat_minor": 2
}

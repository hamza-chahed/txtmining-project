{
 "cells": [
  {
   "cell_type": "code",
   "execution_count": 27,
   "metadata": {},
   "outputs": [
    {
     "name": "stdout",
     "output_type": "stream",
     "text": [
      "/home/computer/Desktop/txt_mining project/files/concat.html\n",
      "here it comes: self.settings[\"template\"].set(fname)\n"
     ]
    }
   ],
   "source": [
    "from tkinter import *\n",
    "from tkinter.filedialog import askopenfilename\n",
    "from tkinter.messagebox import showerror\n",
    "\n",
    "class MyFrame(Frame):\n",
    "    def __init__(self):\n",
    "        Frame.__init__(self)\n",
    "        self.master.title(\"Example\")\n",
    "        self.master.rowconfigure(5, weight=1)\n",
    "        self.master.columnconfigure(5, weight=1)\n",
    "        self.grid(sticky=W+E+N+S)\n",
    "        \n",
    "        self.label = Label(self, text=\"choose the file please\")\n",
    "        #self.label.pack()\n",
    "\n",
    "        self.button = Button(self, text=\"Browse\", command=self.load_file, width=10)\n",
    "        self.button.grid(row=1, column=0, sticky=W)\n",
    "\n",
    "    def load_file(self):\n",
    "        fname = askopenfilename(title=\"Ouvrir votre document\",filetypes=[('html files', '.html'),('all files','.*')])\n",
    "        if fname:\n",
    "            try:\n",
    "                print(fname)\n",
    "                print(\"\"\"here it comes: self.settings[\"template\"].set(fname)\"\"\")\n",
    "            except:                     # <- naked except is a bad idea\n",
    "                showerror(\"Open Source File\", \"Failed to read file\\n'%s'\" % fname)\n",
    "            return\n",
    "\n",
    "\n",
    "if __name__ == \"__main__\":\n",
    "    MyFrame().mainloop()"
   ]
  },
  {
   "cell_type": "code",
   "execution_count": 1,
   "metadata": {},
   "outputs": [
    {
     "ename": "ModuleNotFoundError",
     "evalue": "No module named 'file_reader'",
     "output_type": "error",
     "traceback": [
      "\u001b[0;31m---------------------------------------------------------------------------\u001b[0m",
      "\u001b[0;31mModuleNotFoundError\u001b[0m                       Traceback (most recent call last)",
      "\u001b[0;32m<ipython-input-1-24c6b3fec28d>\u001b[0m in \u001b[0;36m<module>\u001b[0;34m()\u001b[0m\n\u001b[0;32m----> 1\u001b[0;31m \u001b[0;32mimport\u001b[0m \u001b[0mfile_reader\u001b[0m\u001b[0;34m.\u001b[0m\u001b[0mipynb\u001b[0m\u001b[0;34m\u001b[0m\u001b[0m\n\u001b[0m",
      "\u001b[0;31mModuleNotFoundError\u001b[0m: No module named 'file_reader'"
     ]
    }
   ],
   "source": [
    "import file_reader.ipynb"
   ]
  }
 ],
 "metadata": {
  "kernelspec": {
   "display_name": "Python 3",
   "language": "python",
   "name": "python3"
  },
  "language_info": {
   "codemirror_mode": {
    "name": "ipython",
    "version": 3
   },
   "file_extension": ".py",
   "mimetype": "text/x-python",
   "name": "python",
   "nbconvert_exporter": "python",
   "pygments_lexer": "ipython3",
   "version": "3.6.4"
  }
 },
 "nbformat": 4,
 "nbformat_minor": 2
}
